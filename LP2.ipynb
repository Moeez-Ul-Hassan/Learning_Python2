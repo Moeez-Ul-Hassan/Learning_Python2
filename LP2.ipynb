{
 "cells": [
  {
   "cell_type": "code",
   "execution_count": 10,
   "id": "62dc158d",
   "metadata": {},
   "outputs": [
    {
     "name": "stdout",
     "output_type": "stream",
     "text": [
      "[(0, 0), (1, 0), (2, 0)]\n",
      "[(0, 0), (0, 1), (0, 2), (1, 2), (2, 2), (2, 1), (2, 0)]\n"
     ]
    }
   ],
   "source": [
    "dfs_paths=[]\n",
    "path=[]\n",
    "\n",
    "def makematrix(filename):\n",
    "    matrix=[]\n",
    "    with open(filename, \"r\") as file:\n",
    "        for line in file:\n",
    "            row=[]\n",
    "            for element in line.strip().split():\n",
    "                row.append(element)\n",
    "            matrix.append(row)\n",
    "    return matrix\n",
    "\n",
    "def dfs_search(m,r,c,visited):\n",
    "    rows=len(m)\n",
    "    cols=len(m[0])\n",
    "\n",
    "    if r>=rows or r<0 or c>=cols or c<0:\n",
    "        return\n",
    "    \n",
    "    if visited[r][c]==True or m[r][c]==\"1\":\n",
    "        return\n",
    "\n",
    "    visited[r][c]=True\n",
    "    path.append((r,c))\n",
    "\n",
    "    if m[r][c]==\"G\":\n",
    "        dfs_paths.append(path.copy())\n",
    "\n",
    "    dfs_search(m,r+1,c,visited)\n",
    "    dfs_search(m,r,c+1,visited)\n",
    "    dfs_search(m,r-1,c,visited)\n",
    "    dfs_search(m,r,c-1,visited)\n",
    "\n",
    "    visited[r][c]=False\n",
    "    path.pop()\n",
    "\n",
    "   \n",
    "\n",
    "n=\"maze.txt\"\n",
    "m=makematrix(n)\n",
    "visited=[[False for i in range(len(m[0]))]for j in range(len(m))]\n",
    "dfs_search(m,0,0,visited)\n",
    "\n",
    "for p in dfs_paths:\n",
    "    print(p)\n"
   ]
  },
  {
   "cell_type": "code",
   "execution_count": null,
   "id": "5831591b",
   "metadata": {},
   "outputs": [
    {
     "ename": "IndexError",
     "evalue": "list index out of range",
     "output_type": "error",
     "traceback": [
      "\u001b[1;31m---------------------------------------------------------------------------\u001b[0m",
      "\u001b[1;31mIndexError\u001b[0m                                Traceback (most recent call last)",
      "Cell \u001b[1;32mIn[17], line 47\u001b[0m\n\u001b[0;32m     45\u001b[0m m\u001b[38;5;241m=\u001b[39mmakematrix(n)\n\u001b[0;32m     46\u001b[0m visited\u001b[38;5;241m=\u001b[39m[[\u001b[38;5;28;01mFalse\u001b[39;00m \u001b[38;5;28;01mfor\u001b[39;00m i \u001b[38;5;129;01min\u001b[39;00m \u001b[38;5;28mrange\u001b[39m(\u001b[38;5;28mlen\u001b[39m(m[\u001b[38;5;241m0\u001b[39m]))]\u001b[38;5;28;01mfor\u001b[39;00m j \u001b[38;5;129;01min\u001b[39;00m \u001b[38;5;28mrange\u001b[39m(\u001b[38;5;28mlen\u001b[39m(m))]\n\u001b[1;32m---> 47\u001b[0m bfs_search(m,\u001b[38;5;241m0\u001b[39m,\u001b[38;5;241m0\u001b[39m,visited)\n\u001b[0;32m     49\u001b[0m \u001b[38;5;28;01mfor\u001b[39;00m p \u001b[38;5;129;01min\u001b[39;00m bfs_paths:\n\u001b[0;32m     50\u001b[0m     \u001b[38;5;28mprint\u001b[39m(p)\n",
      "Cell \u001b[1;32mIn[17], line 30\u001b[0m, in \u001b[0;36mbfs_search\u001b[1;34m(m, r, c, visited)\u001b[0m\n\u001b[0;32m     27\u001b[0m \u001b[38;5;28;01mif\u001b[39;00m m[r\u001b[38;5;241m+\u001b[39m\u001b[38;5;241m1\u001b[39m][c]\u001b[38;5;241m!=\u001b[39m\u001b[38;5;124m\"\u001b[39m\u001b[38;5;124m1\u001b[39m\u001b[38;5;124m\"\u001b[39m \u001b[38;5;129;01mand\u001b[39;00m r\u001b[38;5;241m+\u001b[39m\u001b[38;5;241m1\u001b[39m\u001b[38;5;241m<\u001b[39m\u001b[38;5;241m=\u001b[39mrows:\n\u001b[0;32m     28\u001b[0m     queue\u001b[38;5;241m.\u001b[39mappend((r\u001b[38;5;241m+\u001b[39m\u001b[38;5;241m1\u001b[39m,c))\n\u001b[1;32m---> 30\u001b[0m \u001b[38;5;28;01mif\u001b[39;00m m[r\u001b[38;5;241m-\u001b[39m\u001b[38;5;241m1\u001b[39m][c]\u001b[38;5;241m!=\u001b[39m\u001b[38;5;124m\"\u001b[39m\u001b[38;5;124m1\u001b[39m\u001b[38;5;124m\"\u001b[39m \u001b[38;5;129;01mand\u001b[39;00m r\u001b[38;5;241m-\u001b[39m\u001b[38;5;241m1\u001b[39m\u001b[38;5;241m>\u001b[39m\u001b[38;5;241m0\u001b[39m:\n\u001b[0;32m     31\u001b[0m     queue\u001b[38;5;241m.\u001b[39mappend((r\u001b[38;5;241m-\u001b[39m\u001b[38;5;241m1\u001b[39m,c))\n\u001b[0;32m     33\u001b[0m \u001b[38;5;28;01mif\u001b[39;00m m[r][c\u001b[38;5;241m+\u001b[39m\u001b[38;5;241m1\u001b[39m]\u001b[38;5;241m!=\u001b[39m\u001b[38;5;124m\"\u001b[39m\u001b[38;5;124m1\u001b[39m\u001b[38;5;124m\"\u001b[39m \u001b[38;5;129;01mand\u001b[39;00m c\u001b[38;5;241m+\u001b[39m\u001b[38;5;241m1\u001b[39m\u001b[38;5;241m<\u001b[39m\u001b[38;5;241m=\u001b[39mcols:\n",
      "\u001b[1;31mIndexError\u001b[0m: list index out of range"
     ]
    }
   ],
   "source": [
    "from collections import deque\n",
    "bfs_paths=[]\n",
    "path=[]\n",
    "\n",
    "def makematrix(filename):\n",
    "    matrix=[]\n",
    "    with open(filename, \"r\") as file:\n",
    "        for line in file:\n",
    "            row=[]\n",
    "            for element in line.strip().split():\n",
    "                row.append(element)\n",
    "            matrix.append(row)\n",
    "    return matrix\n",
    "\n",
    "def bfs_search(m,r,c,visited):\n",
    "    rows=len(m)\n",
    "    cols=len(m[0])\n",
    "    queue=deque([[(r,c)]])\n",
    "\n",
    "    while queue:\n",
    "        r,c=queue.popleft()\n",
    "        path.append((r,c))\n",
    "        visited[r][c]=True\n",
    "\n",
    "        if m[r][c]==\"G\":\n",
    "            bfs_path.append(path.copy())\n",
    "        else:\n",
    "            if m[r+1][c]!=\"1\" and r+1<rows and visited[r+1][c]==False :\n",
    "                queue.append((r+1,c))\n",
    "\n",
    "            if m[r-1][c]!=\"1\" and r-1>0 and visited[r-1][c]==False:\n",
    "                queue.append((r-1,c))\n",
    "\n",
    "            if m[r][c+1]!=\"1\" and c+1<=cols and visited[r][c+1]==False:\n",
    "                queue.append((r,c+1))\n",
    "\n",
    "            if m[r][c-1]!=\"1\" and c-1>0 and visited[r][c-1]==False:\n",
    "                queue.append((r,c-1))      \n",
    "\n",
    "    return(bfs_paths)\n",
    "           \n",
    "        \n",
    "   \n",
    "\n",
    "n=\"maze.txt\"\n",
    "m=makematrix(n)\n",
    "visited=[[False for i in range(len(m[0]))]for j in range(len(m))]\n",
    "bfs_search(m,0,0,visited)\n",
    "\n",
    "for p in bfs_paths:\n",
    "    print(p)\n"
   ]
  },
  {
   "cell_type": "code",
   "execution_count": 16,
   "id": "159fe2e9",
   "metadata": {},
   "outputs": [
    {
     "name": "stdout",
     "output_type": "stream",
     "text": [
      "1\n",
      "2\n",
      "(1, 2)\n"
     ]
    }
   ],
   "source": [
    "pos=(1,2)\n",
    "a,b=pos\n",
    "print(a)\n",
    "print(b)\n",
    "print(pos)"
   ]
  },
  {
   "cell_type": "code",
   "execution_count": null,
   "id": "8111df2b",
   "metadata": {},
   "outputs": [
    {
     "name": "stdout",
     "output_type": "stream",
     "text": [
      "['S', '0', '0']\n",
      "['0', '1', '0']\n",
      "['G', '0', '0']\n"
     ]
    }
   ],
   "source": [
    "from collections import dequeue\n",
    "\n",
    "bfs_p=[]\n",
    "paths=[]\n",
    "\n",
    "def makematrix(n):\n",
    "    with open(n, \"r\") as file:\n",
    "        matrix=[]\n",
    "        for line in file:\n",
    "            row=[]\n",
    "            for element in line.strip().split():\n",
    "                row.append(element)\n",
    "            matrix.append(row)\n",
    "    return(matrix)\n",
    "\n",
    "\n",
    "def bfs(m,r,c):\n",
    "    rows=len(m)\n",
    "    cols=len(m[0])\n",
    "\n",
    "    visited=[[False for i in range(len(m[0]))for j in range(len(m))]]\n",
    "\n",
    "    queue=dequeue([(r,c)])\n",
    "\n",
    "    while queue:\n",
    "\n",
    "        pos=queue.popleft()\n",
    "        r,c=pos[-1]\n",
    "        path=[(r,c)]\n",
    "        if m[r][c]==\"G\":\n",
    "            bfs_p.append(path)\n",
    "            return\n",
    "\n",
    "        directions=[(1,0),(0,1),(-1,0),(0,-1)]\n",
    "\n",
    "        for rr,cc in directions:\n",
    "\n",
    "            if m[rr+r][cc+c]!=\"1\" and visited[rr+r][cc+c]!=True and 0<=rr+r<rows and 0<=cc+c<cols:\n",
    "                vals=(rr+r,cc+c)\n",
    "                path=path+vals\n",
    "\n",
    "\n",
    "\n",
    "\n",
    "\n",
    "n=\"maze.txt\"\n",
    "m=makematrix(n)\n",
    "bfs(m,0,0)\n",
    "\n"
   ]
  },
  {
   "cell_type": "code",
   "execution_count": 27,
   "id": "e91462e6",
   "metadata": {},
   "outputs": [
    {
     "name": "stdout",
     "output_type": "stream",
     "text": [
      "[(0, 0), (1, 0), (2, 0)]\n"
     ]
    }
   ],
   "source": [
    "from collections import deque\n",
    "\n",
    "bfs_p = []\n",
    "\n",
    "def makematrix(n):\n",
    "    with open(n, \"r\") as file:\n",
    "        matrix = []\n",
    "        for line in file:\n",
    "            row = []\n",
    "            for element in line.strip().split():\n",
    "                row.append(element)\n",
    "            matrix.append(row)\n",
    "    return matrix\n",
    "\n",
    "def bfs(m, r, c):\n",
    "    rows = len(m)\n",
    "    cols = len(m[0])\n",
    "\n",
    "    visited = [[False for i in range(cols)] for j in range(rows)]\n",
    "\n",
    "    queue = deque([[(r, c)]])\n",
    "\n",
    "    while queue:\n",
    "        path = queue.popleft()\n",
    "        r, c = path[-1]\n",
    "\n",
    "        if m[r][c] == \"G\":\n",
    "            bfs_p.append(path)\n",
    "            continue\n",
    "\n",
    "        directions = [(1, 0), (0, 1), (-1, 0), (0, -1)]\n",
    "\n",
    "        for dr, dc in directions:\n",
    "            nr = r + dr\n",
    "            nc = c + dc\n",
    "\n",
    "            if 0 <= nr < rows and 0 <= nc < cols:\n",
    "                if m[nr][nc] != \"1\" and not visited[nr][nc]:\n",
    "                    visited[nr][nc] = True\n",
    "                    new_path = path + [(nr, nc)]\n",
    "                    queue.append(new_path)\n",
    "\n",
    "    return bfs_p\n",
    "\n",
    "n = \"maze.txt\"\n",
    "m = makematrix(n)\n",
    "paths = bfs(m, 0, 0)\n",
    "\n",
    "for p in paths:\n",
    "    print(p)\n"
   ]
  },
  {
   "cell_type": "code",
   "execution_count": 28,
   "id": "622fc492",
   "metadata": {},
   "outputs": [
    {
     "name": "stdout",
     "output_type": "stream",
     "text": [
      "[(0, 0), (1, 0), (2, 0)]\n",
      "[(0, 0), (0, 1), (0, 2), (1, 2), (2, 2), (2, 1), (2, 0)]\n"
     ]
    }
   ],
   "source": [
    "from collections import deque\n",
    "\n",
    "bfs_p = []\n",
    "\n",
    "def makematrix(n):\n",
    "    with open(n, \"r\") as file:\n",
    "        matrix = []\n",
    "        for line in file:\n",
    "            row = []\n",
    "            for element in line.strip().split():\n",
    "                row.append(element)\n",
    "            matrix.append(row)\n",
    "    return matrix\n",
    "\n",
    "def bfs(m, r, c):\n",
    "    rows = len(m)\n",
    "    cols = len(m[0])\n",
    "    queue = deque()\n",
    "    queue.append([(r, c)])\n",
    "\n",
    "    while queue:\n",
    "        path = queue.popleft()\n",
    "        r, c = path[-1]\n",
    "\n",
    "        if m[r][c] == \"G\":\n",
    "            bfs_p.append(path)\n",
    "            continue\n",
    "\n",
    "        directions = [(1, 0), (0, 1), (-1, 0), (0, -1)]\n",
    "\n",
    "        for dr, dc in directions:\n",
    "            nr = r + dr\n",
    "            nc = c + dc\n",
    "\n",
    "            if 0 <= nr < rows and 0 <= nc < cols:\n",
    "                if m[nr][nc] != \"1\" and (nr, nc) not in path:\n",
    "                    new_path = path + [(nr, nc)]\n",
    "                    queue.append(new_path)\n",
    "\n",
    "    return bfs_p\n",
    "\n",
    "n = \"maze.txt\"\n",
    "m = makematrix(n)\n",
    "paths = bfs(m, 0, 0)\n",
    "\n",
    "for p in paths:\n",
    "    print(p)\n"
   ]
  },
  {
   "cell_type": "code",
   "execution_count": 50,
   "id": "3ac98c5e",
   "metadata": {},
   "outputs": [
    {
     "name": "stdout",
     "output_type": "stream",
     "text": [
      "The local Minima of (1,1) is 4)\n",
      "The local Minima of (1,2) is 2)\n",
      "The local Minima of (1,3) is 4)\n",
      "The local Minima of (2,1) is 2)\n",
      "The local Minima of (2,2) is 4)\n",
      "The local Minima of (2,3) is 2)\n",
      "The local Minima of (3,1) is 5)\n",
      "The local Minima of (3,2) is 2)\n",
      "The local Minima of (3,3) is 3)\n"
     ]
    }
   ],
   "source": [
    "import numpy as np\n",
    "\n",
    "def findlm(m):\n",
    "    rows=len(m)\n",
    "    cols=len(m[0])\n",
    "    mat=[]\n",
    "    for i in range(1,rows-1):\n",
    "        row=[]\n",
    "        for j in range(1,cols-1):\n",
    "            mini=min(m[i+1][j],m[i-1][j],m[i][j+1],m[i][j-1])\n",
    "            row.append(mini)\n",
    "        mat.append(row)\n",
    "    return mat\n",
    "\n",
    "\n",
    "        \n",
    "\n",
    "\n",
    "\n",
    "\n",
    "def main():\n",
    "    matrix=np.array(\n",
    "        [\n",
    "            [9,8,7,6,5],\n",
    "            [5,3,4,7,8],\n",
    "            [6,7,2,8,9],\n",
    "            [8,6,5,4,3],\n",
    "            [9,7,6,5,4]         \n",
    "        ]\n",
    "    )\n",
    "\n",
    "    m=findlm(matrix)\n",
    "\n",
    "    for i in range(1,len(matrix)-1):\n",
    "        for j in range(1,len(matrix[0])-1):\n",
    "            print(f\"The local Minima of ({i},{j}) is {m[i-1][j-1]})\")\n",
    "\n",
    "\n",
    "\n",
    "\n",
    "\n",
    "if __name__==\"__main__\":\n",
    "    main()"
   ]
  },
  {
   "cell_type": "code",
   "execution_count": 38,
   "id": "9252de18",
   "metadata": {},
   "outputs": [
    {
     "name": "stdout",
     "output_type": "stream",
     "text": [
      "[[0. 0. 0.]\n",
      " [0. 0. 0.]]\n"
     ]
    }
   ],
   "source": [
    "print(np.zeros((2,3)))"
   ]
  },
  {
   "cell_type": "code",
   "execution_count": 40,
   "id": "ce0ef114",
   "metadata": {},
   "outputs": [
    {
     "name": "stdout",
     "output_type": "stream",
     "text": [
      "[[0, 0, 0], [0, 0, 0], [0, 0, 0]]\n"
     ]
    }
   ],
   "source": [
    "rows=3\n",
    "cols=3\n",
    "matrix=[]\n",
    "for i in range(rows):\n",
    "    rows=[]\n",
    "    for j in range(cols):\n",
    "        rows.append(0)\n",
    "    matrix.append(rows)\n",
    "\n",
    "print(matrix)\n"
   ]
  },
  {
   "cell_type": "code",
   "execution_count": 1,
   "id": "a0010087",
   "metadata": {},
   "outputs": [
    {
     "name": "stdout",
     "output_type": "stream",
     "text": [
      "Welcome\n"
     ]
    }
   ],
   "source": [
    "print(\"Welcome\")"
   ]
  },
  {
   "cell_type": "code",
   "execution_count": 2,
   "id": "55e0551a",
   "metadata": {},
   "outputs": [
    {
     "name": "stdout",
     "output_type": "stream",
     "text": [
      "pakistan\n"
     ]
    }
   ],
   "source": [
    "print(\"pakistan\")"
   ]
  },
  {
   "cell_type": "code",
   "execution_count": 36,
   "id": "b09d00da",
   "metadata": {},
   "outputs": [
    {
     "name": "stdout",
     "output_type": "stream",
     "text": [
      "The Node A can move further to B with cost 5\n",
      "The Node A can move further to C with cost 2\n",
      "The Node B can move further to C with cost 3\n",
      "The Node C has no forward route.\n"
     ]
    }
   ],
   "source": [
    "graph = {\n",
    "    'A': [('B', 5), ('C', 2)],\n",
    "    'B': [('C', 3)],\n",
    "    'C': []\n",
    "}\n",
    "\n",
    "for node in graph.keys():\n",
    "    if graph[node] == []:\n",
    "        print(f\"The Node {node} has no forward route.\")\n",
    "    else:\n",
    "        for neighbor in graph[node]:\n",
    "            print(f\"The Node {node} can move further to {neighbor[0]} with cost {neighbor[1]}\")\n",
    "\n",
    "    \n"
   ]
  },
  {
   "cell_type": "code",
   "execution_count": 53,
   "id": "4919fbe0",
   "metadata": {},
   "outputs": [
    {
     "name": "stdout",
     "output_type": "stream",
     "text": [
      "int64\n"
     ]
    }
   ],
   "source": [
    "import numpy as np\n",
    "\n",
    "graph = {\n",
    "    'A': [('B', 5), ('C', 2)],\n",
    "    'B': [('C', 3)],\n",
    "    'C': []\n",
    "}\n",
    "\n",
    "\n",
    "\n",
    "print(np.array(graph[\"A\"][0][1]).dtype)\n",
    "\n"
   ]
  },
  {
   "cell_type": "code",
   "execution_count": null,
   "id": "f4fee786",
   "metadata": {},
   "outputs": [
    {
     "name": "stdout",
     "output_type": "stream",
     "text": [
      "['Lahore', ('Hyderabad', 900), ('Sukkur', 400), ('Sukkur', 300), ('Hyderabad', 250), ('Karachi', 150), 'Karachi']\n"
     ]
    }
   ],
   "source": [
    "# Implementing UCS Algorithm using Graph made without classes\n",
    "ucs_finalpath=[]\n",
    "ucs_visitedpath=[]\n",
    "\n",
    "def UCSPATH(graph,ss,gs):\n",
    "    current_node=[]\n",
    "    for node in graph.keys():\n",
    "        costn=0  \n",
    "        if node==ss:\n",
    "            ucs_visitedpath.append(node)\n",
    "            ucs_finalpath.append(node)\n",
    "            current_node.append(node)\n",
    "\n",
    "        elif node==gs:\n",
    "            ucs_visitedpath.append(node)\n",
    "            ucs_finalpath.append(node)\n",
    "        \n",
    "        else:\n",
    "            for child in graph[node]:\n",
    "                nearest_node=child\n",
    "                min=child[1]\n",
    "                if (costn+child[1])<min:\n",
    "                    nearest_node=child\n",
    "                    min=child[1]\n",
    "            ucs_visitedpath.append(nearest_node)\n",
    "        \n",
    "    print(ucs_visitedpath)\n",
    "\n",
    "\n",
    "\n",
    "graph = {\n",
    "    'Lahore': [('Faisalabad', 120), ('Multan', 350), ('Sukkur', 780)],\n",
    "    'Faisalabad': [('Multan', 250), ('Hyderabad', 900)],\n",
    "    'Multan': [('Bahawalpur', 100), ('Sukkur', 400)],\n",
    "    'Bahawalpur': [('Sukkur', 300)],\n",
    "    'Sukkur': [('Hyderabad', 250)],\n",
    "    'Hyderabad': [('Karachi', 150)],\n",
    "    'Karachi': []\n",
    "}\n",
    "\n",
    "ss=\"Lahore\"\n",
    "gs=\"Karachi\"\n",
    "UCSPATH(graph,ss,gs)\n"
   ]
  },
  {
   "cell_type": "code",
   "execution_count": 71,
   "id": "0ce1a97e",
   "metadata": {},
   "outputs": [
    {
     "name": "stdout",
     "output_type": "stream",
     "text": [
      "('Faisalabad', 120)\n",
      "('Multan', 350)\n",
      "('Sukkur', 780)\n",
      "\n",
      "\n",
      "('Multan', 250)\n",
      "('Hyderabad', 900)\n",
      "\n",
      "\n",
      "('Bahawalpur', 100)\n",
      "('Sukkur', 400)\n",
      "\n",
      "\n",
      "('Sukkur', 300)\n",
      "\n",
      "\n",
      "('Hyderabad', 250)\n",
      "\n",
      "\n",
      "('Karachi', 150)\n",
      "\n",
      "\n",
      "\n",
      "\n"
     ]
    }
   ],
   "source": [
    "graph = {\n",
    "    'Lahore': [('Faisalabad', 120), ('Multan', 350), ('Sukkur', 780)],\n",
    "    'Faisalabad': [('Multan', 250), ('Hyderabad', 900)],\n",
    "    'Multan': [('Bahawalpur', 100), ('Sukkur', 400)],\n",
    "    'Bahawalpur': [('Sukkur', 300)],\n",
    "    'Sukkur': [('Hyderabad', 250)],\n",
    "    'Hyderabad': [('Karachi', 150)],\n",
    "    'Karachi': []\n",
    "}\n",
    "\n",
    "for node in graph.keys():\n",
    "    for child in graph[node]:\n",
    "        print(child)\n",
    "    print('\\n')"
   ]
  },
  {
   "cell_type": "code",
   "execution_count": 93,
   "id": "31b907e4",
   "metadata": {},
   "outputs": [
    {
     "name": "stdout",
     "output_type": "stream",
     "text": [
      "Visited Nodes is ['A', 'B', 'D', 'C', 'E', 'G']\n",
      "Optimal Path is ['A', 'B', 'D', 'G']\n",
      "Cost of Optimal Path is 4\n"
     ]
    }
   ],
   "source": [
    "def ucspath(graph, ss, gs):\n",
    "    queue = [(0, ss, [ss])]\n",
    "    visited = set()\n",
    "    visited_path = []\n",
    "\n",
    "    while queue:\n",
    "        queue.sort(key=lambda x: x[0])\n",
    "        cost, cs, path = queue.pop(0)\n",
    "\n",
    "        if cs in visited:\n",
    "            continue\n",
    "\n",
    "        visited_path.append(cs)\n",
    "        visited.add(cs)\n",
    "\n",
    "        if cs == gs:\n",
    "            print(f\"Visited Nodes is {visited_path}\")\n",
    "            print(f\"Optimal Path is {path}\")\n",
    "            print(f\"Cost of Optimal Path is {cost}\")\n",
    "            return\n",
    "\n",
    "        for neighbor, c in graph[cs]:\n",
    "            if neighbor not in visited:\n",
    "                queue.append((cost + c, neighbor, path + [neighbor]))\n",
    "\n",
    "\n",
    "\n",
    "\n",
    "graph={\n",
    "    'A':[('C',3),('B',1)],\n",
    "    'B':[('E',3),('D',1)],\n",
    "    'C':[('F',5)],\n",
    "    'D':[('G',2)],\n",
    "    'E':[('G',3)],\n",
    "    'F':[('G',2)],\n",
    "    'G':[]\n",
    "}\n",
    "ss=\"A\"\n",
    "gs=\"G\"\n",
    "\n",
    "ucspath(graph,ss,gs)"
   ]
  },
  {
   "cell_type": "code",
   "execution_count": null,
   "id": "669835e7",
   "metadata": {},
   "outputs": [
    {
     "name": "stdout",
     "output_type": "stream",
     "text": [
      "Pakistan\n"
     ]
    }
   ],
   "source": []
  }
 ],
 "metadata": {
  "kernelspec": {
   "display_name": "Python 3",
   "language": "python",
   "name": "python3"
  },
  "language_info": {
   "codemirror_mode": {
    "name": "ipython",
    "version": 3
   },
   "file_extension": ".py",
   "mimetype": "text/x-python",
   "name": "python",
   "nbconvert_exporter": "python",
   "pygments_lexer": "ipython3",
   "version": "3.12.4"
  }
 },
 "nbformat": 4,
 "nbformat_minor": 5
}
