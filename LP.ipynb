{
 "cells": [
  {
   "cell_type": "code",
   "execution_count": 2,
   "id": "8a425248-0bab-4035-ac0f-ddd56d229846",
   "metadata": {},
   "outputs": [
    {
     "name": "stdout",
     "output_type": "stream",
     "text": [
      "b\n",
      "a\n",
      "n\n",
      "a\n",
      "n\n",
      "a\n"
     ]
    }
   ],
   "source": [
    "for i in \"banana\":\n",
    "    print (i)"
   ]
  },
  {
   "cell_type": "code",
   "execution_count": 4,
   "id": "ddfd8f9f",
   "metadata": {},
   "outputs": [
    {
     "name": "stdout",
     "output_type": "stream",
     "text": [
      "b\n",
      "a\n",
      "n\n",
      "a\n",
      "n\n",
      "a\n"
     ]
    }
   ],
   "source": [
    "a=\"banana\"\n",
    "for i in a:\n",
    "    print(i)"
   ]
  },
  {
   "cell_type": "code",
   "execution_count": null,
   "id": "3639b3b1",
   "metadata": {},
   "outputs": [
    {
     "name": "stdout",
     "output_type": "stream",
     "text": [
      "ali\n",
      "ahmad\n",
      "qasim\n",
      "Naseem\n"
     ]
    }
   ],
   "source": [
    "x=[\"ali\",\"ahmad\",\"qasim\",\"Naseem\"]\n",
    "\n",
    "for i in range(len(x)):\n",
    "    j=x[i]\n",
    "    print(j)"
   ]
  },
  {
   "cell_type": "code",
   "execution_count": 18,
   "id": "75bb0847",
   "metadata": {},
   "outputs": [
    {
     "name": "stdout",
     "output_type": "stream",
     "text": [
      "ahmad\n",
      "qasim\n"
     ]
    }
   ],
   "source": [
    "x=[\"ali\",\"ahmad\",\"qasim\",\"Naseem\"]\n",
    "\n",
    "for i in x[1:3]:\n",
    "    print(i)"
   ]
  },
  {
   "cell_type": "code",
   "execution_count": 20,
   "id": "f245f1a0",
   "metadata": {},
   "outputs": [
    {
     "name": "stdout",
     "output_type": "stream",
     "text": [
      "5\n"
     ]
    }
   ],
   "source": [
    "#function to calculate two numbers\n",
    "\n",
    "def sum(a,b):\n",
    "    c=a+b\n",
    "    return c\n",
    "\n",
    "print (sum(3,2))"
   ]
  },
  {
   "cell_type": "code",
   "execution_count": null,
   "id": "d7816d70",
   "metadata": {},
   "outputs": [
    {
     "name": "stdout",
     "output_type": "stream",
     "text": [
      "8\n"
     ]
    }
   ],
   "source": [
    "def sum(a,b):\n",
    "    c=a+b\n",
    "    return c\n",
    "\n",
    "def main():\n",
    "    print(sum(5,3))\n",
    "\n",
    "if __name__==\"__main__\":\n",
    "    main();"
   ]
  },
  {
   "cell_type": "code",
   "execution_count": null,
   "id": "1e526524",
   "metadata": {},
   "outputs": [
    {
     "name": "stdout",
     "output_type": "stream",
     "text": [
      "15\n"
     ]
    }
   ],
   "source": [
    "a= int(input(\"Enter a Number: \"))\n",
    "num=0\n",
    "\n",
    "for i in range(1,a+1):\n",
    "    num=num+i\n",
    "\n",
    "print(num)"
   ]
  },
  {
   "cell_type": "code",
   "execution_count": 5,
   "id": "cedf7b6b",
   "metadata": {},
   "outputs": [
    {
     "name": "stdout",
     "output_type": "stream",
     "text": [
      "15\n"
     ]
    }
   ],
   "source": [
    "a=int(input(\"Enter the number: \"))\n",
    "num=0;\n",
    "i=0;\n",
    "while i<a+1:\n",
    "   num=num+i;\n",
    "   i=i+1\n",
    "\n",
    "print(num)"
   ]
  },
  {
   "cell_type": "code",
   "execution_count": 16,
   "id": "bb855545",
   "metadata": {},
   "outputs": [
    {
     "name": "stdout",
     "output_type": "stream",
     "text": [
      "momom\n",
      "Palindrome: True\n"
     ]
    }
   ],
   "source": [
    "word=input(\"Enter the word\")\n",
    "word=word.lower()\n",
    "palindrome=True\n",
    "bword=word[::-1]\n",
    "print(bword)\n",
    "\n",
    "for i in range(len(bword)):\n",
    "    if bword[i]!=word[i]:\n",
    "        palindrome=False\n",
    "        break\n",
    "\n",
    "if palindrome:\n",
    "    print(\"Palindrome: True\")\n",
    "else:\n",
    "    print(\"Palindrome:False\")\n",
    "    "
   ]
  },
  {
   "cell_type": "code",
   "execution_count": 1,
   "id": "d4707747",
   "metadata": {},
   "outputs": [
    {
     "name": "stdout",
     "output_type": "stream",
     "text": [
      "pkstn\n"
     ]
    }
   ],
   "source": [
    "string=input(\"Enter a string: \")\n",
    "vowels = {'a', 'A', 'e', 'E', 'i', 'I', 'o', 'O', 'u', 'U'}\n",
    "for i in string:\n",
    "    if i not in vowels:\n",
    "        string+=i\n",
    "\n",
    "\n",
    "print(nstring)"
   ]
  },
  {
   "cell_type": "code",
   "execution_count": 14,
   "id": "5115e6b8",
   "metadata": {},
   "outputs": [
    {
     "name": "stdout",
     "output_type": "stream",
     "text": [
      "ali\n",
      "ahmad\n",
      "aalhimad\n"
     ]
    }
   ],
   "source": [
    "# First I am checking the constraints and getting Accurate input:\n",
    "\n",
    "word1=input(\"Enter the word1: 1<=Word_len<=100 and all letters should be lowercase\")\n",
    "\n",
    "while len(word1)>100 or len(word1)<1 or not word1.islower() or not word1.isalpha():\n",
    "    word1 = input(\"Remember the constraint: \");\n",
    "\n",
    "print(word1)\n",
    "\n",
    "word2=input(\"Enter the word2: 1<=Word_len<=100 and all letters should be lowercase\")\n",
    "\n",
    "while len(word2)>100 or len(word2)<1 or not word2.islower() or not word2.isalpha():\n",
    "    word2 = input(\"Remember the constraint: \");\n",
    "\n",
    "print(word2)\n",
    "\n",
    "# Now I am merging these:\n",
    "\n",
    "combined_word=\"\"\n",
    "\n",
    "for i in range(min(len(word1),len(word2))):\n",
    "    combined_word+=word1[i] + word2[i]\n",
    "\n",
    "if len(word1)>len(word2):\n",
    "    combined_word+=word1[len(word2):]\n",
    "\n",
    "if len(word2)>len(word1):\n",
    "    combined_word+=word2[len(word1):]\n",
    "\n",
    "print(combined_word)"
   ]
  },
  {
   "cell_type": "code",
   "execution_count": 36,
   "id": "0b54b2cd",
   "metadata": {},
   "outputs": [
    {
     "name": "stdout",
     "output_type": "stream",
     "text": [
      "AB\n"
     ]
    }
   ],
   "source": [
    "class Solution(object):\n",
    "    def gcdOfStrings(self, str1, str2):\n",
    "        # Input validation\n",
    "        if len(str1) < 1 or len(str1) > 100 or not str1.isalpha() or not str1.isupper():\n",
    "            return \"\"\n",
    "        if len(str2) < 1 or len(str2) > 100 or not str2.isalpha() or not str2.isupper():\n",
    "            return \"\"\n",
    "\n",
    "        # Check if strings can have a common divisor\n",
    "        if str1 + str2 != str2 + str1:\n",
    "            return \"\"\n",
    "\n",
    "        # Start with the shorter string as the initial GCD candidate\n",
    "        gcd = str2 if len(str2) <= len(str1) else str1\n",
    "\n",
    "        # Try all possible prefixes of the candidate\n",
    "        for length in range(len(gcd), 0, -1):\n",
    "            candidate = gcd[:length]\n",
    "            # Check if candidate can form both str1 and str2\n",
    "            if (len(str1) % len(candidate) == 0 and \n",
    "                len(str2) % len(candidate) == 0 and\n",
    "                candidate * (len(str1) // len(candidate)) == str1 and\n",
    "                candidate * (len(str2) // len(candidate)) == str2):\n",
    "                return candidate\n",
    "\n",
    "        return \"\"\n",
    "\n",
    "# Test\n",
    "s = Solution()\n",
    "print(s.gcdOfStrings(\"ABABAB\", \"ABAB\"))  # Output: \"AB\""
   ]
  },
  {
   "cell_type": "code",
   "execution_count": 32,
   "id": "3e0fda0a",
   "metadata": {},
   "outputs": [
    {
     "name": "stdout",
     "output_type": "stream",
     "text": [
      "hello\n"
     ]
    }
   ],
   "source": [
    "string1=[\"ali\",\"ahmad\",\"kamran\"]\n",
    "\n",
    "for i in range(len(string1)):\n",
    "    if string1[i]==\"ahmad\":\n",
    "       print(\"hello\")\n"
   ]
  },
  {
   "cell_type": "code",
   "execution_count": 57,
   "id": "a4a00499",
   "metadata": {},
   "outputs": [
    {
     "name": "stdout",
     "output_type": "stream",
     "text": [
      "CPFYNI\n"
     ]
    }
   ],
   "source": [
    "class Solution(object):\n",
    "    def gcdOfStrings(self, str1, str2):\n",
    "\n",
    "        \n",
    "        if str1 + str2 != str2 + str1:\n",
    "            return \"\"\n",
    "\n",
    "        can = str2 if len(str2) <= len(str1) else str1\n",
    "\n",
    "        for i in range(len(can), 0, -1):\n",
    "            gcd = can[:i]\n",
    "            if len(str1) % len(gcd) == 0 and len(str2) % len(gcd) == 0:\n",
    "                if gcd * (len(str1) // len(gcd)) == str1 and gcd * (len(str2) // len(gcd)) == str2:\n",
    "                    return gcd\n",
    "\n",
    "        return \"\"\n",
    "\n",
    "# Test\n",
    "s = Solution()\n",
    "result = s.gcdOfStrings(\n",
    "    \"CPFYNICPFYNICPFYNICPFYNICPFYNI\", \n",
    "    \"CPFYNICPFYNICPFYNICPFYNICPFYNICPFYNICPFYNICPFYNICPFYNICPFYNICPFYNICPFYNICPFYNICPFYNICPFYNICPFYNICPFYNI\"\n",
    ")\n",
    "print(result)  # Should output: CPFYNI\n"
   ]
  },
  {
   "cell_type": "code",
   "execution_count": 51,
   "id": "52277771",
   "metadata": {},
   "outputs": [],
   "source": [
    "class Solution(object):\n",
    "    def gcdOfStrings(self, str1, str2):\n",
    "        # Input validation\n",
    "        if len(str1) < 1 or len(str1) > 1000 or not str1.isalpha() or not str1.isupper():\n",
    "            return \"\"\n",
    "        if len(str2) < 1 or len(str2) > 1000 or not str2.isalpha() or not str2.isupper():\n",
    "            return \"\"\n",
    "\n",
    "        # Check if str1 + str2 == str2 + str1\n",
    "        if str1 + str2 != str2 + str1:\n",
    "            return \"\"\n",
    "\n",
    "        # Shorter string as candidate\n",
    "        candidate = str2 if len(str2) < len(str1) else str1\n",
    "\n",
    "        # Now check smallest prefix of candidate that can construct both strings\n",
    "        for i in range(1, len(candidate) + 1):\n",
    "            prefix = candidate[:i]\n",
    "            if len(str1) % len(prefix) == 0 and len(str2) % len(prefix) == 0:\n",
    "                if prefix * (len(str1) // len(prefix)) == str1 and prefix * (len(str2) // len(prefix)) == str2:\n",
    "                    return prefix\n",
    "\n",
    "        return \"\"\n"
   ]
  },
  {
   "cell_type": "code",
   "execution_count": 52,
   "id": "d66767dd",
   "metadata": {},
   "outputs": [],
   "source": [
    "class Solution(object):\n",
    "    def gcdOfStrings(self, str1, str2):\n",
    "        # Input validation based on your constraints\n",
    "        if len(str1) < 1 or len(str1) > 100 or not str1.isalpha() or not str1.isupper():\n",
    "            return \"\"\n",
    "        if len(str2) < 1 or len(str2) > 100 or not str2.isalpha() or not str2.isupper():\n",
    "            return \"\"\n",
    "\n",
    "        # Check if strings can have a common divisor\n",
    "        if str1 + str2 != str2 + str1:\n",
    "            return \"\"\n",
    "\n",
    "        # Use the shorter string as the initial GCD\n",
    "        gcd = str2 if len(str2) <= len(str1) else str1\n",
    "\n",
    "        # Now shrink gcd if needed, from end, until it fits both strings\n",
    "        while gcd:\n",
    "            if str1 == gcd * (len(str1) // len(gcd)) and str2 == gcd * (len(str2) // len(gcd)):\n",
    "                return gcd\n",
    "            gcd = gcd[:-1]  # reduce by one character\n",
    "\n",
    "        return \"\"\n"
   ]
  },
  {
   "cell_type": "code",
   "execution_count": null,
   "id": "44d535d6",
   "metadata": {},
   "outputs": [],
   "source": [
    "class Solution(object):\n",
    "    def gcdOfStrings(self,)"
   ]
  },
  {
   "cell_type": "code",
   "execution_count": 60,
   "id": "865679c0",
   "metadata": {},
   "outputs": [
    {
     "name": "stdout",
     "output_type": "stream",
     "text": [
      "[[0 0 0]\n",
      " [0 0 0]\n",
      " [0 0 0]]\n"
     ]
    }
   ],
   "source": [
    "import numpy as np\n",
    "\n",
    "matrix=np.zeros((3,3),dtype=int)\n",
    "\n",
    "print (matrix)"
   ]
  },
  {
   "cell_type": "code",
   "execution_count": 71,
   "id": "1d05019a",
   "metadata": {},
   "outputs": [
    {
     "name": "stdout",
     "output_type": "stream",
     "text": [
      "[[0, 0, 0, 0], [0, 0, 0, 0], [0, 0, 0, 0], [0, 0, 0, 0]]\n"
     ]
    }
   ],
   "source": [
    "matrix=[]\n",
    "\n",
    "rows=4\n",
    "cols=4\n",
    "\n",
    "for i in range(rows):\n",
    "    row=[]\n",
    "    for j in range(cols):\n",
    "        row.append(0)\n",
    "    matrix.append(row)\n",
    "\n",
    "print (matrix)"
   ]
  },
  {
   "cell_type": "code",
   "execution_count": 76,
   "id": "93100ecb",
   "metadata": {},
   "outputs": [
    {
     "name": "stdout",
     "output_type": "stream",
     "text": [
      "[[[], []], [[], []]]\n"
     ]
    }
   ],
   "source": [
    "rows=2\n",
    "cols=2\n",
    "\n",
    "mat=[[[]for i in range(cols)]for j in range(rows)]\n",
    "print (mat)"
   ]
  },
  {
   "cell_type": "code",
   "execution_count": 86,
   "id": "b1c7ffe7",
   "metadata": {},
   "outputs": [
    {
     "name": "stdout",
     "output_type": "stream",
     "text": [
      "[[0, 1, 2, 3, 4], [1, 2, 3, 4, 5]]\n"
     ]
    }
   ],
   "source": [
    "rows = 2\n",
    "cols = 5\n",
    "num = 0\n",
    "\n",
    "mat = [[num + i + j for i in range(cols)] for j in range(rows)]\n",
    "print(mat)\n"
   ]
  },
  {
   "cell_type": "code",
   "execution_count": 91,
   "id": "6fe071f8",
   "metadata": {},
   "outputs": [
    {
     "name": "stdout",
     "output_type": "stream",
     "text": [
      "{'name': 'Moeez', 'class': 'bscs', 'section': 'H', 'year': '2022'}\n"
     ]
    }
   ],
   "source": [
    "dic1={\n",
    "    'name':'Moeez',\n",
    "    'class':'bscs',\n",
    "    'section':'H'\n",
    "}\n",
    "\n",
    "dic1['year']='2022'\n",
    "\n",
    "print(dic1)\n"
   ]
  },
  {
   "cell_type": "code",
   "execution_count": 94,
   "id": "dba3074b",
   "metadata": {},
   "outputs": [
    {
     "ename": "NameError",
     "evalue": "name 'x' is not defined",
     "output_type": "error",
     "traceback": [
      "\u001b[1;31m---------------------------------------------------------------------------\u001b[0m",
      "\u001b[1;31mNameError\u001b[0m                                 Traceback (most recent call last)",
      "Cell \u001b[1;32mIn[94], line 4\u001b[0m\n\u001b[0;32m      2\u001b[0m start\u001b[38;5;241m=\u001b[39m\u001b[38;5;241m6600\u001b[39m\n\u001b[0;32m      3\u001b[0m total_students\u001b[38;5;241m=\u001b[39m\u001b[38;5;241m100\u001b[39m\n\u001b[1;32m----> 4\u001b[0m rollno\u001b[38;5;241m=\u001b[39m{\u001b[43mx\u001b[49m:start\u001b[38;5;241m+\u001b[39m\u001b[38;5;241m1\u001b[39m \u001b[38;5;28;01mfor\u001b[39;00m i \u001b[38;5;129;01min\u001b[39;00m \u001b[38;5;28mrange\u001b[39m(total_students)}\n\u001b[0;32m      5\u001b[0m \u001b[38;5;28mprint\u001b[39m(rollno)\n",
      "\u001b[1;31mNameError\u001b[0m: name 'x' is not defined"
     ]
    }
   ],
   "source": [
    "rollno={}\n",
    "start=6600\n",
    "total_students=100\n",
    "rollno={x:start+1 for i in range(total_students)}\n",
    "print(rollno)"
   ]
  },
  {
   "cell_type": "code",
   "execution_count": 96,
   "id": "f0ba354d",
   "metadata": {},
   "outputs": [
    {
     "name": "stdout",
     "output_type": "stream",
     "text": [
      "[6000, 6001, 6002, 6003, 6004, 6005, 6006, 6007, 6008, 6009, 6010, 6011, 6012, 6013, 6014, 6015, 6016, 6017, 6018, 6019, 6020, 6021, 6022, 6023, 6024, 6025, 6026, 6027, 6028, 6029, 6030, 6031, 6032, 6033, 6034, 6035, 6036, 6037, 6038, 6039, 6040, 6041, 6042, 6043, 6044, 6045, 6046, 6047, 6048, 6049, 6050, 6051, 6052, 6053, 6054, 6055, 6056, 6057, 6058, 6059, 6060, 6061, 6062, 6063, 6064, 6065, 6066, 6067, 6068, 6069, 6070, 6071, 6072, 6073, 6074, 6075, 6076, 6077, 6078, 6079, 6080, 6081, 6082, 6083, 6084, 6085, 6086, 6087, 6088, 6089, 6090, 6091, 6092, 6093, 6094, 6095, 6096, 6097, 6098, 6099]\n"
     ]
    }
   ],
   "source": [
    "rollno=[]\n",
    "start=6000\n",
    "\n",
    "total_students=100\n",
    "\n",
    "rollno=[start+i for i in range(total_students)]\n",
    "\n",
    "print(rollno)"
   ]
  },
  {
   "cell_type": "code",
   "execution_count": 100,
   "id": "e5b8b1cb",
   "metadata": {},
   "outputs": [
    {
     "data": {
      "text/plain": [
       "[('name', 'Moeez'),\n",
       " ('rollno', '6645'),\n",
       " ('section', '6h'),\n",
       " ('subjects', ['cc', 'pdc', 'ai', 'se'])]"
      ]
     },
     "execution_count": 100,
     "metadata": {},
     "output_type": "execute_result"
    }
   ],
   "source": [
    "student_info={\n",
    "    'name':'Moeez',\n",
    "    'rollno':'6645',\n",
    "    'section':'6h',\n",
    "    'subjects':['cc','pdc','ai','se']\n",
    "}\n",
    "\n",
    "student_info.get('subjects')\n",
    "list(student_info.items())\n"
   ]
  },
  {
   "cell_type": "code",
   "execution_count": 108,
   "id": "bbffc15a",
   "metadata": {},
   "outputs": [
    {
     "name": "stdout",
     "output_type": "stream",
     "text": [
      "[1, 23, 4, 3, 2, 3, 2]\n"
     ]
    }
   ],
   "source": [
    "check=[1,23,4,3,2,3,2]\n",
    "print(check)"
   ]
  },
  {
   "cell_type": "code",
   "execution_count": 120,
   "id": "179f8e00",
   "metadata": {},
   "outputs": [
    {
     "name": "stdout",
     "output_type": "stream",
     "text": [
      "The student:  Areeba Khan has roll no. CS2023-001\n",
      "The student:  Hassan Ali has roll no. CS2023-002\n",
      "The student:  Fatima Noor has roll no. CS2023-003\n",
      "The student:  Zain Ahmed has roll no. CS2023-004\n",
      "The student:  Summaiyyah Tariq has roll no. CS2023-005\n",
      "The student:  Usman Rauf has roll no. CS2023-006\n",
      "The student:  Tehreem Fatima has roll no. CS2023-007\n",
      "The student:  Moiz Rehman has roll no. CS2023-008\n",
      "The student:  Urwa Saeed has roll no. CS2023-009\n",
      "The student:  Ahsan Iqbal has roll no. CS2023-010\n"
     ]
    }
   ],
   "source": [
    "students = [\n",
    "    {\n",
    "        \"name\": \"Areeba Khan\",\n",
    "        \"roll\": \"CS2023-001\",\n",
    "        \"year\": \"BSCS 3rd Year\",\n",
    "        \"subjects\": [\"Data Structures\", \"AI\", \"Databases\"]\n",
    "    },\n",
    "    {\n",
    "        \"name\": \"Hassan Ali\",\n",
    "        \"roll\": \"CS2023-002\",\n",
    "        \"year\": \"BSCS 3rd Year\",\n",
    "        \"subjects\": [\"Computer Networks\", \"Machine Learning\", \"Web Development\"]\n",
    "    },\n",
    "    {\n",
    "        \"name\": \"Fatima Noor\",\n",
    "        \"roll\": \"CS2023-003\",\n",
    "        \"year\": \"BSCS 3rd Year\",\n",
    "        \"subjects\": [\"Compiler Construction\", \"AI\", \"Software Engineering\"]\n",
    "    },\n",
    "    {\n",
    "        \"name\": \"Zain Ahmed\",\n",
    "        \"roll\": \"CS2023-004\",\n",
    "        \"year\": \"BSCS 3rd Year\",\n",
    "        \"subjects\": [\"OOP\", \"Mobile App Dev\", \"Operating Systems\"]\n",
    "    },\n",
    "    {\n",
    "        \"name\": \"Summaiyyah Tariq\",\n",
    "        \"roll\": \"CS2023-005\",\n",
    "        \"year\": \"BSCS 3rd Year\",\n",
    "        \"subjects\": [\"Data Science\", \"NLP\", \"Human Computer Interaction\"]\n",
    "    },\n",
    "    {\n",
    "        \"name\": \"Usman Rauf\",\n",
    "        \"roll\": \"CS2023-006\",\n",
    "        \"year\": \"BSCS 3rd Year\",\n",
    "        \"subjects\": [\"Cybersecurity\", \"Blockchain\", \"AI\"]\n",
    "    },\n",
    "    {\n",
    "        \"name\": \"Tehreem Fatima\",\n",
    "        \"roll\": \"CS2023-007\",\n",
    "        \"year\": \"BSCS 3rd Year\",\n",
    "        \"subjects\": [\"Deep Learning\", \"Software Project Management\", \"Cloud Computing\"]\n",
    "    },\n",
    "    {\n",
    "        \"name\": \"Moiz Rehman\",\n",
    "        \"roll\": \"CS2023-008\",\n",
    "        \"year\": \"BSCS 3rd Year\",\n",
    "        \"subjects\": [\"Algorithms\", \"IoT\", \"Digital Logic Design\"]\n",
    "    },\n",
    "    {\n",
    "        \"name\": \"Urwa Saeed\",\n",
    "        \"roll\": \"CS2023-009\",\n",
    "        \"year\": \"BSCS 3rd Year\",\n",
    "        \"subjects\": [\"Database Systems\", \"Information Retrieval\", \"Machine Learning\"]\n",
    "    },\n",
    "    {\n",
    "        \"name\": \"Ahsan Iqbal\",\n",
    "        \"roll\": \"CS2023-010\",\n",
    "        \"year\": \"BSCS 3rd Year\",\n",
    "        \"subjects\": [\"Image Processing\", \"Python Programming\", \"Data Structures\"]\n",
    "    }\n",
    "]\n",
    "\n",
    "for student in students:\n",
    "    print(\"The student: \",student.get(\"name\"), \"has roll no.\" ,student.get(\"roll\"))\n",
    "\n",
    "\n",
    "\n"
   ]
  },
  {
   "cell_type": "code",
   "execution_count": 122,
   "id": "f2b7fe36",
   "metadata": {},
   "outputs": [
    {
     "name": "stdout",
     "output_type": "stream",
     "text": [
      "(('name', 'Hassan Ali'), ('roll', 'CS2023-002'), ('year', 'BSCS 3rd Year'), ('subjects', ['Computer Networks', 'Machine Learning', 'Web Development']))\n"
     ]
    }
   ],
   "source": [
    "students = [\n",
    "    (\n",
    "        (\"name\", \"Areeba Khan\"),\n",
    "        (\"roll\", \"CS2023-001\"),\n",
    "        (\"year\", \"BSCS 3rd Year\"),\n",
    "        (\"subjects\", [\"Data Structures\", \"AI\", \"Databases\"])\n",
    "    ),\n",
    "    (\n",
    "        (\"name\", \"Hassan Ali\"),\n",
    "        (\"roll\", \"CS2023-002\"),\n",
    "        (\"year\", \"BSCS 3rd Year\"),\n",
    "        (\"subjects\", [\"Computer Networks\", \"Machine Learning\", \"Web Development\"])\n",
    "    ),\n",
    "    (\n",
    "        (\"name\", \"Fatima Noor\"),\n",
    "        (\"roll\", \"CS2023-003\"),\n",
    "        (\"year\", \"BSCS 3rd Year\"),\n",
    "        (\"subjects\", [\"Compiler Construction\", \"AI\", \"Software Engineering\"])\n",
    "    ),\n",
    "    (\n",
    "        (\"name\", \"Zain Ahmed\"),\n",
    "        (\"roll\", \"CS2023-004\"),\n",
    "        (\"year\", \"BSCS 3rd Year\"),\n",
    "        (\"subjects\", [\"OOP\", \"Mobile App Dev\", \"Operating Systems\"])\n",
    "    ),\n",
    "    (\n",
    "        (\"name\", \"Summaiyyah Tariq\"),\n",
    "        (\"roll\", \"CS2023-005\"),\n",
    "        (\"year\", \"BSCS 3rd Year\"),\n",
    "        (\"subjects\", [\"Data Science\", \"NLP\", \"Human Computer Interaction\"])\n",
    "    ),\n",
    "    (\n",
    "        (\"name\", \"Usman Rauf\"),\n",
    "        (\"roll\", \"CS2023-006\"),\n",
    "        (\"year\", \"BSCS 3rd Year\"),\n",
    "        (\"subjects\", [\"Cybersecurity\", \"Blockchain\", \"AI\"])\n",
    "    ),\n",
    "    (\n",
    "        (\"name\", \"Tehreem Fatima\"),\n",
    "        (\"roll\", \"CS2023-007\"),\n",
    "        (\"year\", \"BSCS 3rd Year\"),\n",
    "        (\"subjects\", [\"Deep Learning\", \"Software Project Management\", \"Cloud Computing\"])\n",
    "    ),\n",
    "    (\n",
    "        (\"name\", \"Moiz Rehman\"),\n",
    "        (\"roll\", \"CS2023-008\"),\n",
    "        (\"year\", \"BSCS 3rd Year\"),\n",
    "        (\"subjects\", [\"Algorithms\", \"IoT\", \"Digital Logic Design\"])\n",
    "    ),\n",
    "    (\n",
    "        (\"name\", \"Urwa Saeed\"),\n",
    "        (\"roll\", \"CS2023-009\"),\n",
    "        (\"year\", \"BSCS 3rd Year\"),\n",
    "        (\"subjects\", [\"Database Systems\", \"Information Retrieval\", \"Machine Learning\"])\n",
    "    ),\n",
    "    (\n",
    "        (\"name\", \"Ahsan Iqbal\"),\n",
    "        (\"roll\", \"CS2023-010\"),\n",
    "        (\"year\", \"BSCS 3rd Year\"),\n",
    "        (\"subjects\", [\"Image Processing\", \"Python Programming\", \"Data Structures\"])\n",
    "    )\n",
    "]\n",
    "\n",
    "\n"
   ]
  },
  {
   "cell_type": "code",
   "execution_count": 131,
   "id": "3fcfe293",
   "metadata": {},
   "outputs": [
    {
     "name": "stdout",
     "output_type": "stream",
     "text": [
      "[0, 9, 36, 81]\n"
     ]
    }
   ],
   "source": [
    "list= [0, 1, 4, 9, 16, 25, 36, 49, 64, 81]\n",
    "listr=[i for i in list if i%3==0]\n",
    "print(listr)\n"
   ]
  },
  {
   "cell_type": "code",
   "execution_count": 141,
   "id": "616f3a2e",
   "metadata": {},
   "outputs": [
    {
     "data": {
      "text/plain": [
       "'abcmndegop'"
      ]
     },
     "execution_count": 141,
     "metadata": {},
     "output_type": "execute_result"
    }
   ],
   "source": [
    "#a-front + b-front + a-back + b-back  // Expected output abcmndegop\n",
    "\n",
    "def splitandmerge(a,b):\n",
    "    if len(a)%2==0:\n",
    "        a_front=a[:len(a)//2]\n",
    "        a_back=a[(len(a)//2):]\n",
    "    else:\n",
    "        a_front=a[:(len(a)//2)+1]\n",
    "        a_back=a[(len(a)//2)+1:]\n",
    "    \n",
    "    if len(b)%2==0:\n",
    "        b_front=b[:len(b)//2]\n",
    "        b_back=b[(len(b)//2):]\n",
    "    else:\n",
    "        b_front=b[:(len(b)//2)+1]\n",
    "        b_back=b[(len(b)//2)+1:]\n",
    "    \n",
    "    merger=a_front+b_front+a_back+b_back\n",
    "    return merger\n",
    "\n",
    "\n",
    "splitandmerge(\"abcdeg\",\"mnop\")"
   ]
  },
  {
   "cell_type": "code",
   "execution_count": 171,
   "id": "6ff9e8e1",
   "metadata": {},
   "outputs": [
    {
     "name": "stdout",
     "output_type": "stream",
     "text": [
      "[(2, 2), (1, 3), (3, 4, 5), (1, 7)]\n"
     ]
    }
   ],
   "source": [
    "tuples=[(1, 7), (1, 3), (3, 4, 5), (2, 2)]\n",
    "\n",
    "num=[]\n",
    "size=len(tuples)\n",
    "for tup in tuples:\n",
    "    num.append(tup[-1])\n",
    "\n",
    "j=0  \n",
    "while j<size-1:\n",
    "    for i in range(len(tuples)-1):\n",
    "        if num[i]>num[i+1]:\n",
    "            temp=tuples[i]\n",
    "            tuples[i]=tuples[i+1]\n",
    "            tuples[i+1]=temp\n",
    "    \n",
    "    for i in range(len(tuples)):\n",
    "        num[i]=tuples[i][-1]\n",
    "    \n",
    "    j=j+1\n",
    "\n",
    "print(tuples)\n",
    "\n"
   ]
  },
  {
   "cell_type": "code",
   "execution_count": 188,
   "id": "70950444",
   "metadata": {},
   "outputs": [
    {
     "name": "stdout",
     "output_type": "stream",
     "text": [
      "(5, 35, 56, 32)\n"
     ]
    }
   ],
   "source": [
    "tuple=(1,5,7,8,4)\n",
    "ntuple=()\n",
    "for i in range(len(tuple)-1):\n",
    "    ntuple+=(tuple[i]*tuple[i+1],)\n",
    "\n",
    "print(ntuple)\n"
   ]
  },
  {
   "cell_type": "code",
   "execution_count": 175,
   "id": "c43629e3",
   "metadata": {},
   "outputs": [
    {
     "name": "stdout",
     "output_type": "stream",
     "text": [
      "[2, 8, 20, 15]\n"
     ]
    }
   ],
   "source": [
    "list=[1,2,4,5,3]\n",
    "nlist=[list[n]*list[n+1] for n in range(len(list)-1)]\n",
    "print(nlist)\n"
   ]
  },
  {
   "cell_type": "code",
   "execution_count": 205,
   "id": "3b098127",
   "metadata": {},
   "outputs": [
    {
     "data": {
      "text/plain": [
       "3"
      ]
     },
     "execution_count": 205,
     "metadata": {},
     "output_type": "execute_result"
    }
   ],
   "source": [
    "def searchbinary(arr,s):\n",
    "    s=int(s)\n",
    "    arr=[int(n) for n in arr]\n",
    "\n",
    "    m=len(arr)//2\n",
    "    if arr[m]==s:\n",
    "        return m\n",
    "    \n",
    "    if s>arr[m]:\n",
    "        result=searchbinary(arr[m+1:],s)\n",
    "        if result==-1:\n",
    "            return -1\n",
    "        else:\n",
    "            return m+1+result\n",
    "    else:\n",
    "        return searchbinary(arr[:m],s)\n",
    "\n",
    "    return -1\n",
    "\n",
    "\n",
    "arr=['1','2','3','4','5','6','7','8']\n",
    "s=4\n",
    "searchbinary(arr,s)"
   ]
  },
  {
   "cell_type": "code",
   "execution_count": null,
   "id": "1a4b51f3",
   "metadata": {},
   "outputs": [],
   "source": []
  },
  {
   "cell_type": "code",
   "execution_count": null,
   "id": "d0436515",
   "metadata": {},
   "outputs": [
    {
     "data": {
      "text/plain": [
       "2"
      ]
     },
     "execution_count": 202,
     "metadata": {},
     "output_type": "execute_result"
    }
   ],
   "source": [
    "def searchbinary(arr, s):\n",
    "    s = int(s)  # convert s to int early\n",
    "    arr = [int(x) for x in arr]  # convert all elements in arr to int\n",
    "\n",
    "    m = len(arr) // 2\n",
    "    if arr[m] == s:\n",
    "        return m\n",
    "\n",
    "    if s > arr[m]:\n",
    "        result = searchbinary(arr[m+1:], s)\n",
    "        if result == -1:\n",
    "            return -1\n",
    "        else:\n",
    "            return m + 1 + result  # adjust index\n",
    "    else:\n",
    "        return searchbinary(arr[:m], s)\n",
    "\n",
    "    return -1\n",
    "\n",
    "arr=['1','2','3','4','5','6','7','8']\n",
    "s=4\n",
    "searchbinary(arr,s)\n"
   ]
  },
  {
   "cell_type": "code",
   "execution_count": 218,
   "id": "deafe36e",
   "metadata": {},
   "outputs": [
    {
     "name": "stdout",
     "output_type": "stream",
     "text": [
      "{1: 1, 2: 3, 3: 1, 4: 1}\n"
     ]
    }
   ],
   "source": [
    "list=[1, 2, 2, 3, 4, 2]\n",
    "dic={\n",
    "}\n",
    "for i in list:\n",
    "    if i in dic:\n",
    "        dic[i]+=1\n",
    "    else:\n",
    "        dic[i]=1\n",
    "\n",
    "print(dic)"
   ]
  },
  {
   "cell_type": "code",
   "execution_count": 221,
   "id": "85010dfb",
   "metadata": {},
   "outputs": [
    {
     "name": "stdout",
     "output_type": "stream",
     "text": [
      "{0: {'name': 'Alice', 'age': 25}, 1: {'name': 'Charlie', 'age': 25}}\n"
     ]
    }
   ],
   "source": [
    "list_of_dicts = [\n",
    "    {'name': 'Alice', 'age': 25},\n",
    "    {'name': 'Bob', 'age': 30},\n",
    "    {'name': 'Charlie', 'age': 25},\n",
    "    {'name': 'David', 'age': 40}\n",
    "]\n",
    "\n",
    "key=\"age\"\n",
    "value=25\n",
    "\n",
    "newdict={}\n",
    "j=0\n",
    "for i in list_of_dicts:\n",
    "    if i.get(key)==value:\n",
    "        newdict[j]=i\n",
    "        j=j+1\n",
    "        \n",
    "print(newdict)\n"
   ]
  },
  {
   "cell_type": "code",
   "execution_count": 10,
   "id": "de1a1cc7",
   "metadata": {},
   "outputs": [
    {
     "data": {
      "text/plain": [
       "[False, False, True, True, True, True]"
      ]
     },
     "execution_count": 10,
     "metadata": {},
     "output_type": "execute_result"
    }
   ],
   "source": [
    "import numpy as np\n",
    "\n",
    "class Solution(object):\n",
    "    def kidsWithCandies(self, candies, extraCandies):\n",
    "        candies=[int(x) for x in candies]\n",
    "        max=0\n",
    "        for i in candies:\n",
    "            if i>max:\n",
    "                max=i\n",
    "\n",
    "        list=[(candies[i]+extraCandies)>=max for i in range(len(candies))]\n",
    "        return list\n",
    "\n",
    "s=Solution()\n",
    "can=[1,2,3,4,5,6]\n",
    "ec=3\n",
    "s.kidsWithCandies(can,ec)"
   ]
  },
  {
   "cell_type": "code",
   "execution_count": 74,
   "id": "480f53aa",
   "metadata": {},
   "outputs": [
    {
     "name": "stdout",
     "output_type": "stream",
     "text": [
      "True\n"
     ]
    }
   ],
   "source": [
    "class Solution(object):\n",
    "    def canPlaceFlowers(self, flowerbed, n):\n",
    "        flowerbed = [int(x) for x in flowerbed]\n",
    "        tp = 0\n",
    "        i = 0\n",
    "        c = False\n",
    "\n",
    "        # Special case: only 1 element\n",
    "        if len(flowerbed) == 1:\n",
    "            if flowerbed[0] == 0:\n",
    "                tp = 1\n",
    "\n",
    "        elif len(flowerbed) == 2:\n",
    "            if flowerbed[0] == 0 and flowerbed[1] == 0:\n",
    "                tp = 1\n",
    "\n",
    "        else:\n",
    "            while i < len(flowerbed):\n",
    "                # For first position\n",
    "                if i == 0:\n",
    "                    if flowerbed[i] == 0 and flowerbed[i + 1] == 0:\n",
    "                        tp += 1\n",
    "                        flowerbed[i] = 1\n",
    "                        i += 1  # skip next\n",
    "                # For last position\n",
    "                elif i == len(flowerbed) - 1:\n",
    "                    if flowerbed[i] == 0 and flowerbed[i - 1] == 0:\n",
    "                        tp += 1\n",
    "                        flowerbed[i] = 1\n",
    "                # For middle positions\n",
    "                elif flowerbed[i] == 0 and flowerbed[i - 1] == 0 and flowerbed[i + 1] == 0:\n",
    "                    tp += 1\n",
    "                    flowerbed[i] = 1\n",
    "                    i += 1  # skip next\n",
    "                i += 1  # move to next index\n",
    "\n",
    "        if n > tp:\n",
    "            return False\n",
    "        else:\n",
    "            return True\n",
    "\n",
    "\n",
    "\n",
    "s = Solution()\n",
    "arr = [1, 0, 0, 0, 1]\n",
    "n = 1\n",
    "print(s.canPlaceFlowers(arr, n))  \n"
   ]
  },
  {
   "cell_type": "code",
   "execution_count": 21,
   "id": "91cb0d4c",
   "metadata": {},
   "outputs": [
    {
     "name": "stdout",
     "output_type": "stream",
     "text": [
      "['A', 'B', 'D', 'E', 'C', 'F', 'G']\n"
     ]
    }
   ],
   "source": [
    "class Node(object):\n",
    "    def __init__(self,value):\n",
    "        self.value=value\n",
    "        self.children=[]\n",
    "\n",
    "\n",
    "\n",
    "root=Node(\"A\")\n",
    "child1=Node(\"B\")\n",
    "child2=Node(\"C\")\n",
    "\n",
    "c1c1=Node(\"D\")\n",
    "c1c2=Node(\"E\")\n",
    "c2c1=Node(\"F\")\n",
    "c2c2=Node(\"G\")\n",
    "\n",
    "root.children.append(child1)\n",
    "root.children.append(child2)\n",
    "\n",
    "child1.children.append(c1c1)\n",
    "child1.children.append(c1c2)\n",
    "\n",
    "child2.children.append(c2c1)\n",
    "child2.children.append(c2c2)\n",
    "\n",
    "\n",
    "def printdfs(root):\n",
    "        list=[root.value]\n",
    "        for i in root.children:\n",
    "            list.extend(printdfs(i))\n",
    "\n",
    "        return list\n",
    "\n",
    "\n",
    "print(printdfs(root))\n"
   ]
  },
  {
   "cell_type": "code",
   "execution_count": 31,
   "id": "231b17ca",
   "metadata": {},
   "outputs": [
    {
     "name": "stdout",
     "output_type": "stream",
     "text": [
      "['A', 'B', 'C', 'D', 'E', 'F', 'G']\n"
     ]
    }
   ],
   "source": [
    "from collections import deque\n",
    "\n",
    "class Node(object):\n",
    "    def __init__(self,value):\n",
    "        self.value=value\n",
    "        self.children=[]\n",
    "\n",
    "\n",
    "\n",
    "root=Node(\"A\")\n",
    "child1=Node(\"B\")\n",
    "child2=Node(\"C\")\n",
    "\n",
    "c1c1=Node(\"D\")\n",
    "c1c2=Node(\"E\")\n",
    "c2c1=Node(\"F\")\n",
    "c2c2=Node(\"G\")\n",
    "\n",
    "root.children.append(child1)\n",
    "root.children.append(child2)\n",
    "\n",
    "child1.children.append(c1c1)\n",
    "child1.children.append(c1c2)\n",
    "\n",
    "child2.children.append(c2c1)\n",
    "child2.children.append(c2c2)\n",
    "\n",
    "\n",
    "def printbfs(root):\n",
    "    list=deque([root])\n",
    "    result=[]\n",
    "    while list:\n",
    "        val=list.popleft()\n",
    "        result.append(val.value)\n",
    "\n",
    "        for i in val.children:\n",
    "            list.append(i)\n",
    "    \n",
    "    return result\n",
    "\n",
    "\n",
    "print(printbfs(root))\n"
   ]
  },
  {
   "cell_type": "code",
   "execution_count": 2,
   "id": "8012cc6f",
   "metadata": {},
   "outputs": [
    {
     "name": "stdout",
     "output_type": "stream",
     "text": [
      "[None, None, None]\n"
     ]
    }
   ],
   "source": [
    "rows=3\n",
    "cols=3\n",
    "\n",
    "matrix=[]\n",
    "\n",
    "for i in range(rows):\n",
    "    row=[]\n",
    "    for j in range(cols):\n",
    "        col=row.append(0)\n",
    "    matrix.append(col)\n",
    "\n",
    "print(matrix)\n",
    "\n",
    "\n",
    "\n"
   ]
  },
  {
   "cell_type": "code",
   "execution_count": null,
   "id": "c1f80bd1",
   "metadata": {},
   "outputs": [
    {
     "name": "stdout",
     "output_type": "stream",
     "text": [
      "[1 2 3 4]\n",
      "2.5\n",
      "[ 1.67045475 -0.37908566 -0.7857627   0.38926514  0.98767276 -0.30655869\n",
      " -0.47695173  1.24826258 -1.10461309 -0.43818246]\n",
      "[[0. 0. 0.]\n",
      " [0. 0. 0.]\n",
      " [0. 0. 0.]]\n",
      "[[-0.97186451 -1.28645861 -0.68884766  0.65822597]\n",
      " [-0.61210279  0.14924833  1.32306971 -0.20644744]\n",
      " [-1.3314849   0.05976354 -1.93455845 -0.50903774]]\n",
      "[0.85549612 0.84227552 0.50141774 0.11418229 0.5644058 ]\n",
      "[[2 4 2 6]\n",
      " [7 5 5 9]\n",
      " [2 4 8 6]\n",
      " [2 3 6 3]]\n"
     ]
    }
   ],
   "source": [
    "import numpy as np\n",
    "\n",
    "arr=np.array([1,2,3,4])\n",
    "print(arr)\n",
    "\n",
    "\n",
    "mean=np.mean(arr)\n",
    "print(mean)\n",
    "\n",
    "ran=[]\n",
    "for i in range(10):\n",
    "    ran.append(np.random.randn())\n",
    "\n",
    "#print(ran)\n",
    "\n",
    "rarr=np.random.randn(10)\n",
    "print(rarr)\n",
    "\n",
    "\n",
    "matrix=np.zeros([3,3])\n",
    "print(matrix)\n",
    "\n",
    "rm=np.random.randn(3,4)\n",
    "print(rm)\n",
    "\n",
    "rm1=np.random.rand(5)\n",
    "print(rm1)\n",
    "\n",
    "rm2=np.random.randint(1,10,size=(4,4))\n",
    "print(rm2)\n",
    "\n",
    "\n",
    "\n",
    "\n",
    "\n",
    "\n",
    "\n",
    "\n",
    "\n",
    "\n",
    "\n"
   ]
  },
  {
   "cell_type": "code",
   "execution_count": 65,
   "id": "cfcacd0b",
   "metadata": {},
   "outputs": [
    {
     "name": "stdout",
     "output_type": "stream",
     "text": [
      "[[1. 1. 1.]\n",
      " [1. 1. 1.]]\n"
     ]
    }
   ],
   "source": [
    "print(np.zeros([2,3])+1)"
   ]
  },
  {
   "cell_type": "code",
   "execution_count": 75,
   "id": "9b6b327c",
   "metadata": {},
   "outputs": [
    {
     "name": "stdout",
     "output_type": "stream",
     "text": [
      "Our matrix is:\n",
      "[[4 1 2 3]\n",
      " [1 4 1 1]\n",
      " [4 2 1 1]\n",
      " [2 4 1 3]]\n",
      "[[6. 3. 4. 5.]\n",
      " [3. 6. 3. 3.]\n",
      " [6. 4. 3. 3.]\n",
      " [4. 6. 3. 5.]]\n"
     ]
    }
   ],
   "source": [
    "matrix=np.random.randint(1,5,size=(4,4))\n",
    "print(\"Our matrix is:\" )\n",
    "print(matrix)\n",
    "\n",
    "matrix=matrix + 2*np.ones((4,4))\n",
    "print (matrix)\n",
    "\n"
   ]
  },
  {
   "cell_type": "code",
   "execution_count": 117,
   "id": "dd0d090c",
   "metadata": {},
   "outputs": [
    {
     "name": "stdout",
     "output_type": "stream",
     "text": [
      "[(0, 0), (0, 1), (0, 2), (1, 2), (2, 2), (3, 2), (4, 2), (5, 2), (5, 3), (5, 4), (5, 5), (5, 6), (4, 6), (3, 6), (3, 5), (3, 4), (2, 4), (1, 4), (1, 5), (1, 6), (0, 6), (0, 5), (1, 3), (0, 3), (3, 3), (5, 1), (4, 1), (4, 0), (5, 0), (3, 0), (2, 0)]\n"
     ]
    }
   ],
   "source": [
    "import numpy as np\n",
    "\n",
    "dfs_path=[]\n",
    "bfs_path=[]\n",
    "\n",
    "def readfile(filename):\n",
    "    matrix = []\n",
    "    with open(filename, \"r\") as file:\n",
    "        for line in file:\n",
    "            row = []\n",
    "            for element in line.strip().split():  # split by space\n",
    "                val = element.strip()\n",
    "                if val.isdigit():\n",
    "                    row.append(int(val))\n",
    "                else:\n",
    "                    try:\n",
    "                        row.append(float(val))  # just in case there are floats\n",
    "                    except:\n",
    "                        row.append(val)  # keep strings like 'S' or 'G'\n",
    "            matrix.append(row)\n",
    "    return matrix\n",
    "\n",
    "def visitdfs(m, r, c, visited):\n",
    "    rows = len(m)\n",
    "    cols = len(m[0])\n",
    "\n",
    "    if r < 0 or r >= rows or c < 0 or c >= cols:\n",
    "        return\n",
    "\n",
    "    if visited[r][c] or m[r][c] == 1:\n",
    "        return\n",
    "\n",
    "    visited[r][c] = True\n",
    "    dfs_path.append((r, c))\n",
    "\n",
    "    # Move in all 4 directions\n",
    "    visitdfs(m, r + 1, c, visited)  # down\n",
    "    visitdfs(m, r, c + 1, visited)  # right\n",
    "    visitdfs(m, r - 1, c, visited)  # up\n",
    "    visitdfs(m, r, c - 1, visited)  # left\n",
    "\n",
    "    \n",
    "\n",
    "# Example usage:\n",
    "n = \"maze.txt\"\n",
    "m = readfile(n)\n",
    "visited=[[False for i in range(len(m[0]))]for j in range(len(m))]\n",
    "visitdfs(m,0,0,visited)\n",
    "print(dfs_path)"
   ]
  },
  {
   "cell_type": "code",
   "execution_count": 88,
   "id": "719010c8",
   "metadata": {},
   "outputs": [
    {
     "ename": "ValueError",
     "evalue": "could not convert string to float: 'n'",
     "output_type": "error",
     "traceback": [
      "\u001b[1;31m---------------------------------------------------------------------------\u001b[0m",
      "\u001b[1;31mValueError\u001b[0m                                Traceback (most recent call last)",
      "Cell \u001b[1;32mIn[88], line 4\u001b[0m\n\u001b[0;32m      1\u001b[0m r\u001b[38;5;241m=\u001b[39m\u001b[38;5;241m0\u001b[39m\n\u001b[0;32m      2\u001b[0m c\u001b[38;5;241m=\u001b[39m\u001b[38;5;241m0\u001b[39m\n\u001b[1;32m----> 4\u001b[0m matrix[r][c]\u001b[38;5;241m=\u001b[39m\u001b[38;5;124m\"\u001b[39m\u001b[38;5;124mn\u001b[39m\u001b[38;5;124m\"\u001b[39m\n\u001b[0;32m      6\u001b[0m \u001b[38;5;28mprint\u001b[39m(matrix[r][c])\n",
      "\u001b[1;31mValueError\u001b[0m: could not convert string to float: 'n'"
     ]
    }
   ],
   "source": [
    "r=0\n",
    "c=0\n",
    "\n",
    "matrix[r][c]=\"n\"\n",
    "\n",
    "print(matrix[r][c])"
   ]
  },
  {
   "cell_type": "code",
   "execution_count": 12,
   "id": "8c4886e5",
   "metadata": {},
   "outputs": [
    {
     "ename": "UnboundLocalError",
     "evalue": "cannot access local variable 'path' where it is not associated with a value",
     "output_type": "error",
     "traceback": [
      "\u001b[1;31m---------------------------------------------------------------------------\u001b[0m",
      "\u001b[1;31mUnboundLocalError\u001b[0m                         Traceback (most recent call last)",
      "Cell \u001b[1;32mIn[12], line 48\u001b[0m\n\u001b[0;32m     46\u001b[0m c\u001b[38;5;241m=\u001b[39m\u001b[38;5;241m0\u001b[39m\n\u001b[0;32m     47\u001b[0m visited\u001b[38;5;241m=\u001b[39m[[\u001b[38;5;28;01mFalse\u001b[39;00m \u001b[38;5;28;01mfor\u001b[39;00m i \u001b[38;5;129;01min\u001b[39;00m \u001b[38;5;28mrange\u001b[39m(\u001b[38;5;28mlen\u001b[39m(m[\u001b[38;5;241m0\u001b[39m]))]\u001b[38;5;28;01mfor\u001b[39;00m j \u001b[38;5;129;01min\u001b[39;00m \u001b[38;5;28mrange\u001b[39m(\u001b[38;5;28mlen\u001b[39m(m))]\n\u001b[1;32m---> 48\u001b[0m findgoaldfs(m,r,c,visited)\n\u001b[0;32m     49\u001b[0m \u001b[38;5;28mprint\u001b[39m(dfs_path)\n",
      "Cell \u001b[1;32mIn[12], line 32\u001b[0m, in \u001b[0;36mfindgoaldfs\u001b[1;34m(m, r, c, visited)\u001b[0m\n\u001b[0;32m     29\u001b[0m     path\u001b[38;5;241m=\u001b[39m[]\n\u001b[0;32m     31\u001b[0m visited[r][c]\u001b[38;5;241m=\u001b[39m\u001b[38;5;28;01mTrue\u001b[39;00m\n\u001b[1;32m---> 32\u001b[0m path\u001b[38;5;241m.\u001b[39mappend((r,c))\n\u001b[0;32m     34\u001b[0m findgoaldfs(m,r\u001b[38;5;241m-\u001b[39m\u001b[38;5;241m1\u001b[39m,c,visited)\n\u001b[0;32m     35\u001b[0m findgoaldfs(m,r,c\u001b[38;5;241m-\u001b[39m\u001b[38;5;241m1\u001b[39m,visited)\n",
      "\u001b[1;31mUnboundLocalError\u001b[0m: cannot access local variable 'path' where it is not associated with a value"
     ]
    }
   ],
   "source": [
    "dfs_path=[]\n",
    "path=[]\n",
    "\n",
    "def makematrix(filename):\n",
    "    matrix=[]\n",
    "    with open(filename, \"r\") as file:\n",
    "        for line in file:\n",
    "            row=[]\n",
    "            for element in line.strip().split():\n",
    "                row.append(element)\n",
    "            \n",
    "            matrix.append(row)\n",
    "    \n",
    "    return matrix\n",
    "\n",
    "\n",
    "def findgoaldfs(m,r,c,visited):\n",
    "    rows=len(m)\n",
    "    cols=len(m[0])\n",
    "\n",
    "    if r<0 or c>=cols or r>=rows or c<0:\n",
    "        return\n",
    "    \n",
    "    if m[r][c]==\"1\" or visited[r][c]==True:\n",
    "        return\n",
    "    \n",
    "    if m[r][c]==\"G\":\n",
    "        dfs_path.append(path)\n",
    "        path=[]\n",
    "    \n",
    "    visited[r][c]=True\n",
    "    path.append((r,c))\n",
    "\n",
    "    findgoaldfs(m,r-1,c,visited)\n",
    "    findgoaldfs(m,r,c-1,visited)\n",
    "    findgoaldfs(m,r+1,c,visited)\n",
    "    findgoaldfs(m,r,c+1,visited)\n",
    "\n",
    "\n",
    "\n",
    "\n",
    "\n",
    "filename=\"maze.txt\"\n",
    "m=makematrix(filename)\n",
    "r=0\n",
    "c=0\n",
    "visited=[[False for i in range(len(m[0]))]for j in range(len(m))]\n",
    "findgoaldfs(m,r,c,visited)\n",
    "print(dfs_path)\n"
   ]
  },
  {
   "cell_type": "code",
   "execution_count": 10,
   "id": "140e409c",
   "metadata": {},
   "outputs": [
    {
     "name": "stdout",
     "output_type": "stream",
     "text": [
      "2\n"
     ]
    }
   ],
   "source": [
    "def makematrix(filename):\n",
    "    matrix=[]\n",
    "    with open(filename, \"r\") as file:\n",
    "        for line in file:\n",
    "            row=[]\n",
    "            for element in line.strip().split():\n",
    "                row.append(element)\n",
    "            matrix.append(row)\n",
    "    return matrix\n",
    "\n",
    "    \n",
    "\n",
    "n=\"maze.txt\"\n",
    "m=makematrix(n)\n",
    "print(\"2\")"
   ]
  }
 ],
 "metadata": {
  "kernelspec": {
   "display_name": "Python 3",
   "language": "python",
   "name": "python3"
  },
  "language_info": {
   "codemirror_mode": {
    "name": "ipython",
    "version": 3
   },
   "file_extension": ".py",
   "mimetype": "text/x-python",
   "name": "python",
   "nbconvert_exporter": "python",
   "pygments_lexer": "ipython3",
   "version": "3.12.4"
  }
 },
 "nbformat": 4,
 "nbformat_minor": 5
}
